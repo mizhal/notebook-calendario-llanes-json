{
 "cells": [
  {
   "cell_type": "markdown",
   "metadata": {},
   "source": [
    "La misión de hoy es conseguir el calendario de eventos en formato JSON para poder aprovecharlo desde otras aplicaciones."
   ]
  },
  {
   "cell_type": "code",
   "execution_count": 3,
   "metadata": {
    "collapsed": true
   },
   "outputs": [],
   "source": [
    "LLANES_CAL = \"http://llanes.es/calendario\""
   ]
  },
  {
   "cell_type": "markdown",
   "metadata": {},
   "source": [
    "Esta es la dirección web del calendario de eventos de Llanes, cargamos el contenido de la web de eventos, que por suerte o por desgracia los trae todos \"escondidos\"."
   ]
  },
  {
   "cell_type": "code",
   "execution_count": 4,
   "metadata": {
    "collapsed": false
   },
   "outputs": [],
   "source": [
    "from urllib2 import urlopen\n",
    "calweb = urlopen(LLANES_CAL)\n",
    "calwebtext1 = calweb.read()"
   ]
  },
  {
   "cell_type": "code",
   "execution_count": 5,
   "metadata": {
    "collapsed": false
   },
   "outputs": [],
   "source": [
    "calwebtext2 = unicode(calwebtext1.decode(\"utf8\"))"
   ]
  },
  {
   "cell_type": "markdown",
   "metadata": {},
   "source": [
    "Parseamos el HTML para manejar directamente el DOM, ya que tratar el HTML como texto es una locura."
   ]
  },
  {
   "cell_type": "code",
   "execution_count": 6,
   "metadata": {
    "collapsed": false
   },
   "outputs": [],
   "source": [
    "from lxml import etree\n",
    "from io import StringIO, BytesIO\n",
    "parser = etree.HTMLParser()\n",
    "doc = etree.parse(StringIO(calwebtext2), parser)"
   ]
  },
  {
   "cell_type": "markdown",
   "metadata": {},
   "source": [
    "Los eventos que nos interesan tienen la clase HTML \"fullcalendar-event\". Los recuperamos usando XPATH."
   ]
  },
  {
   "cell_type": "code",
   "execution_count": 7,
   "metadata": {
    "collapsed": false
   },
   "outputs": [],
   "source": [
    "events = doc.xpath(\"//*[@class='fullcalendar-event']\")"
   ]
  },
  {
   "cell_type": "markdown",
   "metadata": {},
   "source": [
    "Ejemplo de los datos de un evento:"
   ]
  },
  {
   "cell_type": "code",
   "execution_count": 8,
   "metadata": {
    "collapsed": false
   },
   "outputs": [
    {
     "data": {
      "text/plain": [
       "{'allday': '1',\n",
       " 'class': 'fullcalendar-event-details',\n",
       " 'cn': 'fc-event-default agenda fc-event-field-field-fechaagenda',\n",
       " 'editable': '',\n",
       " 'eid': '461',\n",
       " 'end': '2012-06-16 00:00:00',\n",
       " 'entity_type': 'node',\n",
       " 'field': 'field_fechaagenda',\n",
       " 'href': '/agenda/san-antonio-piedra',\n",
       " 'index': '0',\n",
       " 'start': '2012-06-16 00:00:00',\n",
       " 'title': 'San Antonio (Piedra)'}"
      ]
     },
     "execution_count": 8,
     "metadata": {},
     "output_type": "execute_result"
    }
   ],
   "source": [
    "dict(events[12].xpath(\".//a\")[0].items())\n"
   ]
  },
  {
   "cell_type": "markdown",
   "metadata": {},
   "source": [
    "Creamos una clase para abstraer la extración de los datos desde el DOM de cada evento de la página web"
   ]
  },
  {
   "cell_type": "code",
   "execution_count": 9,
   "metadata": {
    "collapsed": false
   },
   "outputs": [],
   "source": [
    "from datetime import datetime\n",
    "\n",
    "class Event:\n",
    "    node = None\n",
    "    def __init__(self, element):\n",
    "        self.node = element\n",
    "    def title(self):\n",
    "        return self.node.xpath(\"./h3/text()\")[0]\n",
    "    def attrs(self):\n",
    "        return dict(self.node.xpath(\".//a\")[0].items())\n",
    "    def start(self):\n",
    "        return datetime.strptime(self.attrs()[\"start\"], \"%Y-%m-%d %H:%M:%S\")\n",
    "    def end(self):\n",
    "        return datetime.strptime(self.attrs()[\"end\"], \"%Y-%m-%d %H:%M:%S\")\n",
    "    def allday(self):\n",
    "        return self.attrs()[\"allday\"] == \"1\""
   ]
  },
  {
   "cell_type": "code",
   "execution_count": 10,
   "metadata": {
    "collapsed": false
   },
   "outputs": [
    {
     "name": "stdout",
     "output_type": "stream",
     "text": [
      "{'index': '0', 'allday': '1', 'end': '2012-06-16 00:00:00', 'cn': 'fc-event-default agenda fc-event-field-field-fechaagenda', 'field': 'field_fechaagenda', 'entity_type': 'node', 'editable': '', 'start': '2012-06-16 00:00:00', 'href': '/agenda/san-antonio-piedra', 'eid': '461', 'title': 'San Antonio (Piedra)', 'class': 'fullcalendar-event-details'}\n",
      "2012-06-16 00:00:00\n",
      "True\n"
     ]
    }
   ],
   "source": [
    "events_objects = [Event(i) for i in events]\n",
    "print events_objects[12].attrs()\n",
    "print events_objects[12].end()\n",
    "print events_objects[12].allday()"
   ]
  },
  {
   "cell_type": "markdown",
   "metadata": {},
   "source": [
    "Extraemos las propiedades que nos interesan y lo volcamos a json."
   ]
  },
  {
   "cell_type": "code",
   "execution_count": 11,
   "metadata": {
    "collapsed": true
   },
   "outputs": [],
   "source": [
    "def json_event(event_object):\n",
    "    return {\"title\": event_object.title(), \n",
    "            \"start\": event_object.start(), \n",
    "            \"end\": event_object.end(), \n",
    "            \"allday\": event_object.allday()\n",
    "           }"
   ]
  },
  {
   "cell_type": "markdown",
   "metadata": {},
   "source": [
    "Hay que tener en cuenta que la librería de JSON no nos define una serialización para las fechas, tenemos que crear una nueva función, usamos el formato ISO por conveniencia."
   ]
  },
  {
   "cell_type": "code",
   "execution_count": 69,
   "metadata": {
    "collapsed": false
   },
   "outputs": [],
   "source": [
    "import json\n",
    "\n",
    "def json_date_serializer(obj):\n",
    "    if isinstance(obj, datetime):\n",
    "        serial = obj.isoformat()\n",
    "        return serial\n",
    "    raise TypeError (\"Type not serializable\")\n",
    "\n",
    "json_file = open(\"calendario_llanes.json\", \"w\")\n",
    "json_file.write(json.dumps([json_event(i) for i in events_objects], default = json_date_serializer))\n",
    "json_file.close()"
   ]
  },
  {
   "cell_type": "markdown",
   "metadata": {},
   "source": [
    "Ahora vamos a \"masajear\" un poco los datos para colocar el json con la estructura que más nos conviene para las pruebas, que es una jerarquía:\n",
    "* Año\n",
    "    * Mes\n",
    "        * Dia\n",
    "            * Evento\n",
    "            \n",
    "También necesitamos que los eventos aparezcan todos los días desde que empiezan hasta que terminan.\n",
    "\n",
    "Para ello vamos a generar unas \"claves\" para cada evento, cada \"clave\" es una fecha y un evento tiene tantas claves como dias desde que empieza hasta que termina.\n",
    "\n",
    "En la practica, además de generar cada clave, vamos a adjuntarle el propio evento, haciendo en efecto una *multiplicación de conjuntos* entre los eventos y las claves/fecha."
   ]
  },
  {
   "cell_type": "code",
   "execution_count": 66,
   "metadata": {
    "collapsed": false
   },
   "outputs": [],
   "source": [
    "from datetime import timedelta\n",
    "from itertools import chain\n",
    "\n",
    "'''Descripcion de la transformacion:\n",
    "\n",
    "{e in Events} =(map-on-keys)=> [(KEY, e)] =(group-by(KEY))=> {KEY -> [e]} \n",
    "\n",
    "'''\n",
    "\n",
    "def map_on_keys(event):\n",
    "    ''' e in Events -> [(KEY, e)] '''\n",
    "    start = event.start()\n",
    "    end = event.end()\n",
    "    days = [start + timedelta(d) for d in range((end - start).days + 1)] # +1 para que incluya el dia actual si start == end\n",
    "    return [(d, event) for d in days]\n",
    "\n",
    "nested = [map_on_keys(e) for e in events_objects]\n",
    "\n",
    "flatten = list(chain.from_iterable(nested))\n",
    "# ordenamos in-place por la clave, para luego agrupar, no es necesario pero podria ser eficiente\n",
    "flatten.sort()\n",
    "\n",
    "grouped = {}\n",
    "for key, event in flatten:\n",
    "    grouped.setdefault(key, [])\n",
    "    grouped[key].append(event)\n"
   ]
  },
  {
   "cell_type": "markdown",
   "metadata": {},
   "source": [
    "Finalmente, construímos la jerarquía aprovechando la estructura de la *clave* y luego la volcamos al fichero JSON."
   ]
  },
  {
   "cell_type": "code",
   "execution_count": 75,
   "metadata": {
    "collapsed": false
   },
   "outputs": [],
   "source": [
    "hierarchy = {}\n",
    "for key, events in grouped.iteritems():\n",
    "    y = key.year\n",
    "    m = key.month\n",
    "    d = key.day\n",
    "    \n",
    "    hierarchy.setdefault(y, {})\n",
    "    hierarchy[y].setdefault(m, {})\n",
    "    hierarchy[y][m].setdefault(d, [])\n",
    "    \n",
    "    for e in events:\n",
    "        hierarchy[y][m][d].append(json_event(e))\n",
    "\n",
    "json_file = open(\"calendario_llanes_jerarquico.json\", \"w\")\n",
    "json_file.write(json.dumps(hierarchy, default = json_date_serializer))\n",
    "json_file.close()\n"
   ]
  },
  {
   "cell_type": "markdown",
   "metadata": {},
   "source": [
    "Todas estas duplicaciones de datos y demás no nos han de preocupar. En este experimento tratamos los datos para que se comporten como los devolvería un servicio web, y es posible que varias peticiones (presentadas aquí como las claves del JSON) retornen los mismos datos.\n",
    "\n",
    "En realidad en producción, todo este trabajo lo haría algún sistema de base de datos, que almacenaría los datos con las redundancias / duplicaciones estríctamente necesarias."
   ]
  },
  {
   "cell_type": "markdown",
   "metadata": {},
   "source": [
    "Advertencia: Este tipo de procedimientos se hacen en Python convencional porque son pocos datos. \n",
    "\n",
    "No es recomendable hacerlo así directamente con Big Data, aunque la forma de pensar debe ser la misma (transformaciones de conjuntos) la tecnología a usar debe permitir trabajar en paralelo y con colecciones de datos cargadas \"de forma perezosa\" (lazy) para ser viable."
   ]
  },
  {
   "cell_type": "markdown",
   "metadata": {},
   "source": [
    "##Analisis\n",
    "\n",
    "Con el conjunto de datos que estamos manejando podríamos hacer un pequeño análisis"
   ]
  }
 ],
 "metadata": {
  "kernelspec": {
   "display_name": "Python 2",
   "language": "python",
   "name": "python2"
  },
  "language_info": {
   "codemirror_mode": {
    "name": "ipython",
    "version": 2
   },
   "file_extension": ".py",
   "mimetype": "text/x-python",
   "name": "python",
   "nbconvert_exporter": "python",
   "pygments_lexer": "ipython2",
   "version": "2.7.11"
  }
 },
 "nbformat": 4,
 "nbformat_minor": 0
}
